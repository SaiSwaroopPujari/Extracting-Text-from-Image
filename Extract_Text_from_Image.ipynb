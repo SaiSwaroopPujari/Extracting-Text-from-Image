{
  "cells": [
    {
      "cell_type": "code",
      "execution_count": null,
      "id": "3ddd89eb-355b-4d00-9b32-a067e742e75c",
      "metadata": {
        "id": "3ddd89eb-355b-4d00-9b32-a067e742e75c"
      },
      "outputs": [],
      "source": [
        "import pandas as pd\n",
        "import numpy as np\n",
        "\n",
        "from glob import glob\n",
        "from tqdm.notebook import tqdm\n",
        "\n",
        "import matplotlib.pyplot as plt\n",
        "from PIL import Image\n",
        "\n",
        "plt.style.use('ggplot')"
      ]
    },
    {
      "cell_type": "code",
      "execution_count": null,
      "id": "797f8f4a-e996-47a9-8fcc-c4517c6af135",
      "metadata": {
        "id": "797f8f4a-e996-47a9-8fcc-c4517c6af135"
      },
      "outputs": [],
      "source": [
        "annot = pd.read_parquet(r\"D:\\Notebook\\1705\\Dataset\\annot.parquet\")\n",
        "imgs = pd.read_parquet(r\"D:\\Notebook\\1705\\Dataset\\img.parquet\")\n",
        "img_fns = glob(r\"D:\\Notebook\\1705\\Dataset\\train_val_images\\train_images\\*\")"
      ]
    },
    {
      "cell_type": "code",
      "execution_count": null,
      "id": "c007cc1c-9085-489c-ae05-eba770bd18ac",
      "metadata": {
        "id": "c007cc1c-9085-489c-ae05-eba770bd18ac"
      },
      "outputs": [],
      "source": [
        "fig, ax = plt.subplots(figsize=(10, 10))\n",
        "ax.imshow(plt.imread(img_fns[0]))\n",
        "ax.axis('off')\n",
        "plt.show()"
      ]
    },
    {
      "cell_type": "code",
      "execution_count": null,
      "id": "1262d9dd-6de5-4946-be48-0313094fba76",
      "metadata": {
        "scrolled": true,
        "id": "1262d9dd-6de5-4946-be48-0313094fba76"
      },
      "outputs": [],
      "source": [
        "image_id = img_fns[0].split(\"\\\\\")[-1].split('.')[0]\n",
        "annot.query('image_id == @image_id')\n"
      ]
    },
    {
      "cell_type": "code",
      "execution_count": null,
      "id": "17aca631-3d56-4792-85da-2309c4221a1e",
      "metadata": {
        "id": "17aca631-3d56-4792-85da-2309c4221a1e"
      },
      "outputs": [],
      "source": [
        "fig, axs = plt.subplots(5, 5, figsize=(20, 20))\n",
        "axs = axs.flatten()\n",
        "for i in range(25):\n",
        "    axs[i].imshow(plt.imread(img_fns[i]))\n",
        "    axs[i].axis('off')\n",
        "    image_id = img_fns[i].split('\\\\')[-1].rstrip('.jpg')\n",
        "    n_annot = len(annot.query('image_id == @image_id'))\n",
        "    axs[i].set_title(f'{image_id} - {n_annot}')\n",
        "plt.show()"
      ]
    },
    {
      "cell_type": "code",
      "execution_count": null,
      "id": "e10a9f9a-bb03-45dc-86e2-82353402ffe4",
      "metadata": {
        "id": "e10a9f9a-bb03-45dc-86e2-82353402ffe4"
      },
      "outputs": [],
      "source": [
        "pip install pytesseract"
      ]
    },
    {
      "cell_type": "code",
      "execution_count": null,
      "id": "3ce58248-d60d-48e8-86e7-7708cb88ba31",
      "metadata": {
        "id": "3ce58248-d60d-48e8-86e7-7708cb88ba31"
      },
      "outputs": [],
      "source": [
        "import pytesseract\n",
        "\n",
        "# Set Tesseract executable path\n",
        "pytesseract.pytesseract.tesseract_cmd = r\"C:\\Program Files\\Tesseract-OCR\\tesseract.exe\"\n",
        "\n",
        "# Example call\n",
        "print(pytesseract.image_to_string(img_fns[11], lang='eng'))\n"
      ]
    },
    {
      "cell_type": "code",
      "execution_count": null,
      "id": "5aad2fd0-d341-4bac-b209-ad000d1748f2",
      "metadata": {
        "id": "5aad2fd0-d341-4bac-b209-ad000d1748f2"
      },
      "outputs": [],
      "source": [
        "fig, ax = plt.subplots(figsize=(10,10))\n",
        "ax.imshow(plt.imread(img_fns[11]))\n",
        "ax.axis('off')\n",
        "plt.show()"
      ]
    },
    {
      "cell_type": "code",
      "execution_count": null,
      "id": "863b62a9-a419-4e8e-9ef6-c0a1b2a1305e",
      "metadata": {
        "id": "863b62a9-a419-4e8e-9ef6-c0a1b2a1305e"
      },
      "outputs": [],
      "source": [
        "pip install easyocr\n"
      ]
    },
    {
      "cell_type": "code",
      "execution_count": null,
      "id": "9f43eff6-4715-4f3e-9cb3-fb4839a08f66",
      "metadata": {
        "id": "9f43eff6-4715-4f3e-9cb3-fb4839a08f66"
      },
      "outputs": [],
      "source": [
        "import easyocr\n",
        "\n",
        "reader = easyocr.Reader(['en'], gpu = True)"
      ]
    },
    {
      "cell_type": "code",
      "execution_count": null,
      "id": "3977dff2-7fef-493d-8e0b-e6b3e639135f",
      "metadata": {
        "id": "3977dff2-7fef-493d-8e0b-e6b3e639135f"
      },
      "outputs": [],
      "source": [
        "results = reader.readtext(img_fns[11])\n"
      ]
    },
    {
      "cell_type": "code",
      "execution_count": null,
      "id": "3cceec4d-54fd-48a2-be13-fc54fc3c5fbc",
      "metadata": {
        "id": "3cceec4d-54fd-48a2-be13-fc54fc3c5fbc"
      },
      "outputs": [],
      "source": [
        "pd.DataFrame(results, columns=['bbox','text','conf'])\n"
      ]
    },
    {
      "cell_type": "code",
      "execution_count": null,
      "id": "bc3904de-93a5-4a54-8a94-1c52ded8dfa5",
      "metadata": {
        "id": "bc3904de-93a5-4a54-8a94-1c52ded8dfa5"
      },
      "outputs": [],
      "source": [
        "pip install keras-ocr==0.9.3\n"
      ]
    },
    {
      "cell_type": "code",
      "execution_count": null,
      "id": "ec1965e6-283a-4f4f-a927-402a43a12f0d",
      "metadata": {
        "id": "ec1965e6-283a-4f4f-a927-402a43a12f0d"
      },
      "outputs": [],
      "source": [
        "import easyocr\n",
        "import pandas as pd\n",
        "import numpy as np\n",
        "import matplotlib.pyplot as plt\n",
        "from tqdm import tqdm\n",
        "\n",
        "# Initialize EasyOCR reader\n",
        "reader = easyocr.Reader(['en'], gpu=True)\n",
        "\n",
        "# Function to plot and compare EasyOCR results\n",
        "def plot_compare(img_fn, easyocr_df):\n",
        "    img_id = img_fn.split('/')[-1].split('.')[0]\n",
        "    fig, axs = plt.subplots(1, 1, figsize=(15, 10))\n",
        "\n",
        "    easy_results = easyocr_df.query('img_id == @img_id')[['text', 'bbox']].values.tolist()\n",
        "    easy_results = [(x[0], np.array(x[1])) for x in easy_results]\n",
        "\n",
        "    image = plt.imread(img_fn)\n",
        "    for text, bbox in easy_results:\n",
        "        bbox = bbox.reshape(-1, 2)\n",
        "        # Draw bounding box\n",
        "        axs.plot(np.r_[bbox[:, 0], bbox[0, 0]], np.r_[bbox[:, 1], bbox[0, 1]], 'g-', linewidth=2)\n",
        "        # Display text\n",
        "        axs.text(bbox[0, 0], bbox[0, 1], text, va='top', fontsize=12, color='k')\n",
        "\n",
        "    axs.imshow(image)\n",
        "    axs.set_title('EasyOCR results', fontsize=24)\n",
        "    plt.show()\n",
        "\n",
        "# List to store EasyOCR results for all images\n",
        "dfs = []\n",
        "\n",
        "# Loop over images to extract text using EasyOCR\n",
        "for img_fn in tqdm(img_fns[:25]):\n",
        "    result = reader.readtext(img_fn)\n",
        "    img_id = img_fn.split('\\\\')[-1].split('.')[0]\n",
        "    img_df = pd.DataFrame(result, columns=['bbox', 'text', 'conf'])\n",
        "    img_df['img_id'] = img_id\n",
        "    dfs.append(img_df)\n",
        "\n",
        "# Concatenate results into a single DataFrame\n",
        "easyocr_df = pd.concat(dfs)\n",
        "\n",
        "# Loop over images and plot EasyOCR results\n",
        "for img_fn in img_fns[:25]:\n",
        "    plot_compare(img_fn, easyocr_df)\n"
      ]
    },
    {
      "cell_type": "code",
      "execution_count": null,
      "id": "1d1ca615-c3fa-48cc-beb8-e9cb93764d32",
      "metadata": {
        "id": "1d1ca615-c3fa-48cc-beb8-e9cb93764d32"
      },
      "outputs": [],
      "source": [
        "import easyocr\n",
        "import pandas as pd\n",
        "from tqdm import tqdm\n",
        "\n",
        "# Initialize EasyOCR reader\n",
        "reader = easyocr.Reader(['en'], gpu=True)\n",
        "\n",
        "# List to store extracted text from images\n",
        "extracted_text = []\n",
        "\n",
        "# Loop over images to extract text using EasyOCR\n",
        "for img_fn in tqdm(img_fns[:25]):\n",
        "    result = reader.readtext(img_fn)\n",
        "    img_id = img_fn.split('\\\\')[-1].split('.')[0]\n",
        "    for bbox, text, conf in result:\n",
        "        extracted_text.append({'img_id': img_id, 'text': text, 'confidence': conf})\n",
        "\n",
        "# Convert extracted text into a DataFrame\n",
        "extracted_text_df = pd.DataFrame(extracted_text)\n",
        "\n",
        "# Display extracted text\n",
        "print(extracted_text_df)\n"
      ]
    },
    {
      "cell_type": "code",
      "execution_count": null,
      "id": "4cf2c14a-f1e6-4d5f-851b-47057b329772",
      "metadata": {
        "id": "4cf2c14a-f1e6-4d5f-851b-47057b329772"
      },
      "outputs": [],
      "source": [
        "import easyocr\n",
        "import pandas as pd\n",
        "import numpy as np\n",
        "import matplotlib.pyplot as plt\n",
        "from tqdm import tqdm\n",
        "\n",
        "# Initialize EasyOCR reader\n",
        "reader = easyocr.Reader(['en'], gpu=True)\n",
        "\n",
        "def plot_easyocr_results(img_fn, easyocr_df):\n",
        "    img_id = img_fn.split('\\\\')[-1].split('.')[0]\n",
        "    fig, ax = plt.subplots(figsize=(15, 10))\n",
        "\n",
        "    image = plt.imread(img_fn)\n",
        "    ax.imshow(image)\n",
        "\n",
        "    # Filter EasyOCR results for the specific image\n",
        "    easy_results = easyocr_df[easyocr_df['img_id'] == img_id]\n",
        "\n",
        "    # Plot bounding boxes and text\n",
        "    for index, row in easy_results.iterrows():\n",
        "        bbox = row['bbox']\n",
        "        text = row['text']\n",
        "        confidence = row['conf']\n",
        "\n",
        "        # Check if bbox is a list or numpy array\n",
        "        if isinstance(bbox, np.ndarray):\n",
        "            # Convert numpy array to list\n",
        "            bbox = bbox.tolist()\n",
        "\n",
        "        # Plot bounding box\n",
        "        xmin, ymin = bbox[0][0], bbox[0][1]\n",
        "        width, height = bbox[2][0] - bbox[0][0], bbox[2][1] - bbox[0][1]\n",
        "        rect = plt.Rectangle((xmin, ymin), width, height,\n",
        "                             fill=False, edgecolor='g', linewidth=2)\n",
        "        ax.add_patch(rect)\n",
        "\n",
        "        # Plot text and confidence score\n",
        "        ax.text(xmin, ymin, f'{text} (Confidence: {confidence:.2f})',\n",
        "                fontsize=12, bbox=dict(facecolor='g', alpha=0.5))\n",
        "\n",
        "    ax.set_title('EasyOCR Results', fontsize=24)\n",
        "    plt.show()\n",
        "\n",
        "# List to store EasyOCR results for all images\n",
        "easyocr_results = []\n",
        "\n",
        "# Loop over images to extract text using EasyOCR\n",
        "for img_fn in tqdm(img_fns[:25]):\n",
        "    img_id = img_fn.split('\\\\')[-1].split('.')[0]\n",
        "    result = reader.readtext(img_fn)\n",
        "\n",
        "    # Append extracted text along with image ID to the results list\n",
        "    for bbox, text, conf in result:\n",
        "        easyocr_results.append({'img_id': img_id, 'bbox': bbox, 'text': text, 'conf': conf})\n",
        "\n",
        "# Create a DataFrame from the EasyOCR results\n",
        "easyocr_df = pd.DataFrame(easyocr_results)\n",
        "\n",
        "# Loop over images and plot EasyOCR results\n",
        "for img_fn in img_fns[:25]:\n",
        "    plot_easyocr_results(img_fn, easyocr_df)\n"
      ]
    },
    {
      "cell_type": "code",
      "execution_count": null,
      "id": "17ab0b7d-f13e-49cd-8f37-be91b73c98fd",
      "metadata": {
        "id": "17ab0b7d-f13e-49cd-8f37-be91b73c98fd"
      },
      "outputs": [],
      "source": []
    }
  ],
  "metadata": {
    "kernelspec": {
      "display_name": "Python 3 (ipykernel)",
      "language": "python",
      "name": "python3"
    },
    "language_info": {
      "codemirror_mode": {
        "name": "ipython",
        "version": 3
      },
      "file_extension": ".py",
      "mimetype": "text/x-python",
      "name": "python",
      "nbconvert_exporter": "python",
      "pygments_lexer": "ipython3",
      "version": "3.11.7"
    },
    "colab": {
      "provenance": []
    }
  },
  "nbformat": 4,
  "nbformat_minor": 5
}